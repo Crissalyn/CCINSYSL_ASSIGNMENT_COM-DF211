{
  "cells": [
    {
      "cell_type": "markdown",
      "metadata": {
        "id": "view-in-github",
        "colab_type": "text"
      },
      "source": [
        "<a href=\"https://colab.research.google.com/github/Crissalyn/CCINSYSL_ASSIGNMENT_COM-DF211/blob/main/exercise_1.ipynb\" target=\"_parent\"><img src=\"https://colab.research.google.com/assets/colab-badge.svg\" alt=\"Open In Colab\"/></a>"
      ]
    },
    {
      "cell_type": "markdown",
      "metadata": {
        "id": "GBxi4CrfzeYk"
      },
      "source": [
        "# Exercise 1\n",
        "\n",
        "Learning through data\n",
        "\n",
        "Instruction: Define a function that will accept input and return the output that matches the examples given for each number"
      ]
    },
    {
      "cell_type": "markdown",
      "metadata": {
        "id": "TGoRtGThzeYm"
      },
      "source": [
        "1. Find the function **f(x)**  \n",
        "\n",
        "| Input  | CAT | DOG | APPLE | BANANA | ORANGE |  \n",
        "| --- | --- | --- | --- | --- | --- |\n",
        "| Output | cat | dog | apple | banana | orange\n"
      ]
    },
    {
      "cell_type": "code",
      "execution_count": 15,
      "metadata": {
        "id": "qVeYW_ypzeYn",
        "outputId": "82693476-f45e-47f0-edd8-c80a24c8c5c1",
        "colab": {
          "base_uri": "https://localhost:8080/"
        }
      },
      "outputs": [
        {
          "output_type": "stream",
          "name": "stdout",
          "text": [
            "cat, dog, apple, banana, orange\n"
          ]
        }
      ],
      "source": [
        "# Answer here\n",
        "def lowerCase(input):\n",
        "    print(input.lower())\n",
        "\n",
        "lowerCase(\"CAT, DOG, APPLE, BANANA, ORANGE\")"
      ]
    },
    {
      "cell_type": "markdown",
      "metadata": {
        "id": "ljHhD6M1zeYn"
      },
      "source": [
        "2. Find the function **f(x)**  \n",
        "\n",
        "| Input  | CAT | DOG | APPLE | BANANA | ORANGE |  \n",
        "| --- | --- | --- | --- | --- | --- |\n",
        "| Output | CT | DG | PPL | BNN | RNG\n"
      ]
    },
    {
      "cell_type": "code",
      "execution_count": 22,
      "metadata": {
        "id": "O1IYoTnrzeYo",
        "outputId": "685997ce-ea9b-47b4-8d90-76f4c2cf0fdf",
        "colab": {
          "base_uri": "https://localhost:8080/"
        }
      },
      "outputs": [
        {
          "output_type": "stream",
          "name": "stdout",
          "text": [
            "['CT', 'DG', 'PPL', 'BNN', 'RNG']\n"
          ]
        }
      ],
      "source": [
        "# Answer here\n",
        "def removeVowels(x):\n",
        "    vowels = \"AEIOUaeiou\"\n",
        "    return ''.join([letter for letter in x if letter not in vowels])\n",
        "\n",
        "input = [\"CAT\", \"DOG\", \"APPLE\", \"BANANA\", \"ORANGE\"]\n",
        "output = [removeVowels(word) for word in input]\n",
        "\n",
        "print(output)\n"
      ]
    },
    {
      "cell_type": "markdown",
      "metadata": {
        "id": "jRfDgREezeYo"
      },
      "source": [
        "3. Find the function **f(x)**  \n",
        "\n",
        "| Input  | CAT | DOG | APPLE | BANANA | ORANGE |  \n",
        "| --- | --- | --- | --- | --- | --- |\n",
        "| Output | TAC | GOD | ELPPA | ANANAB | EGNARO\n"
      ]
    },
    {
      "cell_type": "code",
      "execution_count": 19,
      "metadata": {
        "id": "xplN1Wi9zeYp",
        "outputId": "776012e3-ef11-4d58-9721-44d7ecd91b25",
        "colab": {
          "base_uri": "https://localhost:8080/",
          "height": 36
        }
      },
      "outputs": [
        {
          "output_type": "execute_result",
          "data": {
            "text/plain": [
              "'TAC ,GOD ,ELPPA ,ANANAB ,EGNARO'"
            ],
            "application/vnd.google.colaboratory.intrinsic+json": {
              "type": "string"
            }
          },
          "metadata": {},
          "execution_count": 19
        }
      ],
      "source": [
        "# Answer here\n",
        "def reverse(x):\n",
        "    return x[::-1]\n",
        "\n",
        "\n",
        "reverse(\"ORANGE, BANANA, APPLE, DOG, CAT\")"
      ]
    },
    {
      "cell_type": "markdown",
      "metadata": {
        "id": "k4JMcMspzeYp"
      },
      "source": [
        "4. Find the function **f(x)**  \n",
        "\n",
        "| Input  | 2 | 3 | 4 | 5 | 6 |  \n",
        "| --- | --- | --- | --- | --- | --- |\n",
        "| Output | 4 | 9 | 16 | 25 | 36\n"
      ]
    },
    {
      "cell_type": "code",
      "execution_count": 25,
      "metadata": {
        "id": "dZrQ2PYVzeYp",
        "outputId": "35767be7-a85d-4dd4-d612-76a4f725c4b3",
        "colab": {
          "base_uri": "https://localhost:8080/"
        }
      },
      "outputs": [
        {
          "output_type": "stream",
          "name": "stdout",
          "text": [
            "[4, 9, 16, 25, 36]\n"
          ]
        }
      ],
      "source": [
        "# Answer here\n",
        "def squared(x):\n",
        "  return x ** 2\n",
        "\n",
        "input = [2, 3, 4, 5, 6]\n",
        "output = [squared(value) for value in input]\n",
        "\n",
        "print(output)\n"
      ]
    },
    {
      "cell_type": "markdown",
      "metadata": {
        "id": "6DonFwqSzeYq"
      },
      "source": [
        "5. Find the function **f(x)**  \n",
        "\n",
        "| Input  | 64 | 27 | 1000 | 729 | 512 |  \n",
        "| --- | --- | --- | --- | --- | --- |\n",
        "| Output | 4 | 3 | 10 | 9 | 8"
      ]
    },
    {
      "cell_type": "code",
      "execution_count": 26,
      "metadata": {
        "id": "EgBiiHMozeYq",
        "outputId": "25d7013c-9775-43f3-c54a-456ddd36e762",
        "colab": {
          "base_uri": "https://localhost:8080/"
        }
      },
      "outputs": [
        {
          "output_type": "stream",
          "name": "stdout",
          "text": [
            "[4, 3, 10, 9, 8]\n"
          ]
        }
      ],
      "source": [
        "# Answer here\n",
        "def f(x):\n",
        "  return round(x ** (1/3))\n",
        "\n",
        "input = [64, 27, 1000, 729, 512]\n",
        "output = [f(value) for value in input]\n",
        "\n",
        "print(output)"
      ]
    }
  ],
  "metadata": {
    "kernelspec": {
      "display_name": "myenvironment",
      "language": "python",
      "name": "python3"
    },
    "language_info": {
      "codemirror_mode": {
        "name": "ipython",
        "version": 3
      },
      "file_extension": ".py",
      "mimetype": "text/x-python",
      "name": "python",
      "nbconvert_exporter": "python",
      "pygments_lexer": "ipython3",
      "version": "3.9.17"
    },
    "orig_nbformat": 4,
    "colab": {
      "provenance": [],
      "include_colab_link": true
    }
  },
  "nbformat": 4,
  "nbformat_minor": 0
}